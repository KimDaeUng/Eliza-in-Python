{
 "cells": [
  {
   "cell_type": "markdown",
   "metadata": {},
   "source": [
    "# Eliza in Python (1)\n",
    "\n",
    "본 내용은 The 11th International Conference on Computational Semantics(IWCS 2015)의 부대 행사인 Computational Semantics Hackathon의 자료 중 Dialogue system 파트를 번역한 자료입니다([출처](https://github.com/iwcs15-hack/dialog_system)).\n",
    "\n",
    "Based on [this source code](https://www.daniweb.com/programming/software-development/code/380743/eliza-aka-therapist-facelift)"
   ]
  },
  {
   "cell_type": "code",
   "execution_count": 2,
   "metadata": {},
   "outputs": [],
   "source": [
    "import random\n",
    "import re"
   ]
  },
  {
   "cell_type": "markdown",
   "metadata": {},
   "source": [
    "Eliza는 사용자가 말한 내용을 발화의 인칭을 바꾸어 말함으로써(ex. I 와 you를 맞바꾸는 등), 사용자의 말을 흉내낸다. 여기서는 간단한 규칙만으로 이를 구현해 볼 것이다. 보다 정교하게 만들기 위해 NLTK를 사용할 수 있지만, 정교한 방법은 다음편에 다룰 것이다.\n",
    "\n",
    "아래 셀의 `reflection_of`는 key에 해당하는 단어를 이를 이에 대한 대체어로 대응시키는 dictionary이다. `translate` 함수는 매칭된 패턴을 입력받아 이를 정규표현식을 이용해 단어로 분할한 뒤, 이에 대해 프로그램이 찾은 반영(reflection)으로 대체한다."
   ]
  },
  {
   "cell_type": "code",
   "execution_count": 3,
   "metadata": {},
   "outputs": [],
   "source": [
    "reflection_of = {\n",
    "    \"am\"    : \"are\",\n",
    "    \"was\"   : \"were\",\n",
    "    \"i\"     : \"you\",\n",
    "    \"i'd\"   : \"you would\",\n",
    "    \"i've\"  : \"you have\",\n",
    "    \"i'll\"  : \"you will\",\n",
    "    \"i'm\"   : \"you are\",\n",
    "    \"my\"    : \"your\",\n",
    "    \"are\"   : \"am\",\n",
    "    \"you're\": \"I am\",\n",
    "    \"you've\": \"I have\",\n",
    "    \"you'll\": \"I will\",\n",
    "    \"your\"  : \"my\",\n",
    "    \"yours\" : \"mine\",\n",
    "    \"you\"   : \"me\",\n",
    "    \"me\"    : \"you\" }\n",
    "\n",
    "\n",
    "def translate(this):\n",
    "    return ' '.join(reflection_of[word] if word in reflection_of else word for word in re.findall(r\"[\\w']+\", this.lower()))"
   ]
  },
  {
   "cell_type": "code",
   "execution_count": 4,
   "metadata": {},
   "outputs": [
    {
     "data": {
      "text/plain": [
       "'your father so strict to you'"
      ]
     },
     "execution_count": 4,
     "metadata": {},
     "output_type": "execute_result"
    }
   ],
   "source": [
    "translate('My father so strict to me')"
   ]
  },
  {
   "cell_type": "code",
   "execution_count": 5,
   "metadata": {},
   "outputs": [
    {
     "data": {
      "text/plain": [
       "'I am so kind'"
      ]
     },
     "execution_count": 5,
     "metadata": {},
     "output_type": "execute_result"
    }
   ],
   "source": [
    "translate(\"You're so kind\")"
   ]
  },
  {
   "cell_type": "markdown",
   "metadata": {},
   "source": [
    "Eliza는 Rule-based chatbot으로 다음 규칙들을 기반으로 작동한다.  \n",
    "\n",
    "    1. 유저 발화 : 유저가 말할 것으로 예상되는 발화로, 만약 실제 유저 발화가 이와 대응되면, 해당 발화에 가능한 응답 후보 리스트가 선택되어 이 중에서 적절한 응답을 선택해 생성할 수 있다.  \n",
    "    \n",
    "    2. 가능한 응답 후보 리스트 : therapist(Eliza)는 이 중에서 하나를 랜덤으로 선택한다. 문장 속에 포맷 `%n`이 포함될 수도 있는데, 이것은 유저의 발화에서 1번 규칙의 정규표현식을 이용해 매칭된 패턴 그룹들 중 n번째 그룹에 해당되는 것으로 대체한다는 표현이다. 이 예제의 Eliza는 39가지 규칙으로 이루어져 있으며, 규칙이 더 다양해질수록, 더 복잡한 답변이 가능하다. "
   ]
  },
  {
   "cell_type": "code",
   "execution_count": 6,
   "metadata": {},
   "outputs": [],
   "source": [
    "rules = [(re.compile(x[0]), x[1]) for x in [\n",
    "   ['How are you?',\n",
    "      [ \"I'm fine, thank you.\"]],\n",
    "    [\"I need (.*)\",\n",
    "    [   \"Why do you need %1?\",\n",
    "        \"Would it really help you to get %1?\",\n",
    "        \"Are you sure you need %1?\"]],\n",
    "    [\"Why don't you (.*)\",\n",
    "    [   \"Do you really think I don't %1?\",\n",
    "        \"Perhaps eventually I will %1.\",\n",
    "        \"Do you really want me to %1?\"]],\n",
    "    [\"Why can't I (.*)\",\n",
    "    [   \"Do you think you should be able to %1?\",\n",
    "        \"If you could %1, what would you do?\",\n",
    "        \"I don't know -- why can't you %1?\",\n",
    "        \"Have you really tried?\"]],\n",
    "    [\"I can't (.*)\",\n",
    "    [   \"How do you know you can't %1?\",\n",
    "        \"Perhaps you could %1 if you tried.\",\n",
    "        \"What would it take for you to %1?\"]],\n",
    "    [\"I am (.*)\",\n",
    "    [   \"Did you come to me because you are %1?\",\n",
    "        \"How long have you been %1?\",\n",
    "        \"How do you feel about being %1?\"]],\n",
    "    [\"I'm (.*)\",\n",
    "    [   \"How does being %1 make you feel?\",\n",
    "        \"Do you enjoy being %1?\",\n",
    "        \"Why do you tell me you're %1?\",\n",
    "        \"Why do you think you're %1?\"]],\n",
    "    [\"Are you (.*)\",\n",
    "    [   \"Why does it matter whether I am %1?\",\n",
    "        \"Would you prefer it if I were not %1?\",\n",
    "        \"Perhaps you believe I am %1.\",\n",
    "        \"I may be %1 -- what do you think?\"]],\n",
    "    [\"What (.*)\",\n",
    "    [   \"Why do you ask?\",\n",
    "        \"How would an answer to that help you?\",\n",
    "        \"What do you think?\"]],\n",
    "    [\"How (.*)\",\n",
    "    [   \"How do you suppose?\",\n",
    "        \"Perhaps you can answer your own question.\",\n",
    "        \"What is it you're really asking?\"]],\n",
    "    [\"Because (.*)\",\n",
    "    [   \"Is that the real reason?\",\n",
    "        \"What other reasons come to mind?\",\n",
    "        \"Does that reason apply to anything else?\",\n",
    "        \"If %1, what else must be true?\"]],\n",
    "    [\"(.*) sorry (.*)\",\n",
    "    [   \"There are many times when no apology is needed.\",\n",
    "        \"What feelings do you have when you apologize?\"]],\n",
    "    [\"Hello(.*)\",\n",
    "    [   \"Hello... I'm glad you could drop by today.\",\n",
    "        \"Hi there... how are you today?\",\n",
    "        \"Hello, how are you feeling today?\"]],\n",
    "    [\"I think (.*)\",\n",
    "    [   \"Do you doubt %1?\",\n",
    "        \"Do you really think so?\",\n",
    "        \"But you're not sure %1?\"]],\n",
    "    [\"(.*) friend(.*)\",\n",
    "    [   \"Tell me more about your friends.\",\n",
    "        \"When you think of a friend, what comes to mind?\",\n",
    "        \"Why don't you tell me about a childhood friend?\"]],\n",
    "    [\"Yes\",\n",
    "    [   \"You seem quite sure.\",\n",
    "        \"OK, but can you elaborate a bit?\"]],\n",
    "    [\"No\",\n",
    "    [ \"Why not?\"]],\n",
    "    [\"(.*) computer(.*)\",\n",
    "    [   \"Are you really talking about me?\",\n",
    "        \"Does it seem strange to talk to a computer?\",\n",
    "        \"How do computers make you feel?\",\n",
    "        \"Do you feel threatened by computers?\"]],\n",
    "    [\"Is it (.*)\",\n",
    "    [   \"Do you think it is %1?\",\n",
    "        \"Perhaps it's %1 -- what do you think?\",\n",
    "        \"If it were %1, what would you do?\",\n",
    "        \"It could well be that %1.\"]],\n",
    "    [\"It is (.*)\",\n",
    "    [   \"You seem very certain.\",\n",
    "        \"If I told you that it probably isn't %1, what would you feel?\"]],\n",
    "    [\"Can you (.*)\",\n",
    "    [   \"What makes you think I can't %1?\",\n",
    "        \"If I could %1, then what?\",\n",
    "        \"Why do you ask if I can %1?\"]],\n",
    "    [\"Can I (.*)\",\n",
    "    [   \"Perhaps you don't want to %1.\",\n",
    "        \"Do you want to be able to %1?\",\n",
    "        \"If you could %1, would you?\"]],\n",
    "    [\"You are (.*)\",\n",
    "    [   \"Why do you think I am %1?\",\n",
    "        \"Does it please you to think that I'm %1?\",\n",
    "        \"Perhaps you would like me to be %1.\",\n",
    "        \"Perhaps you're really talking about yourself?\"]],\n",
    "    [\"You're (.*)\",\n",
    "    [   \"Why do you say I am %1?\",\n",
    "        \"Why do you think I am %1?\",\n",
    "        \"Are we talking about you, or me?\"]],\n",
    "    [\"I don't (.*)\",\n",
    "    [   \"Don't you really %1?\",\n",
    "        \"Why don't you %1?\",\n",
    "        \"Do you want to %1?\"]],\n",
    "    [\"I feel (.*)\",\n",
    "    [   \"Good, tell me more about these feelings.\",\n",
    "        \"Do you often feel %1?\",\n",
    "        \"When do you usually feel %1?\",\n",
    "        \"When you feel %1, what do you do?\"]],\n",
    "    [\"I have (.*)\",\n",
    "    [   \"Why do you tell me that you've %1?\",\n",
    "        \"Have you really %1?\",\n",
    "        \"Now that you have %1, what will you do next?\"]],\n",
    "    [\"I would (.*)\",\n",
    "    [   \"Could you explain why you would %1?\",\n",
    "        \"Why would you %1?\",\n",
    "        \"Who else knows that you would %1?\"]],\n",
    "    [\"Is there (.*)\",\n",
    "    [   \"Do you think there is %1?\",\n",
    "        \"It's likely that there is %1.\",\n",
    "        \"Would you like there to be %1?\"]],\n",
    "    [\"My (.*)\",\n",
    "    [   \"I see, your %1.\",\n",
    "        \"Why do you say that your %1?\",\n",
    "        \"When your %1, how do you feel?\"]],\n",
    "    [\"You (.*)\",\n",
    "    [   \"We should be discussing you, not me.\",\n",
    "        \"Why do you say that about me?\",\n",
    "        \"Why do you care whether I %1?\"]],\n",
    "    [\"Why (.*)\",\n",
    "    [   \"Why don't you tell me the reason why %1?\",\n",
    "        \"Why do you think %1?\" ]],\n",
    "    [\"I want (.*)\",\n",
    "    [   \"What would it mean to you if you got %1?\",\n",
    "        \"Why do you want %1?\",\n",
    "        \"What would you do if you got %1?\",\n",
    "        \"If you got %1, then what would you do?\"]],\n",
    "    [\"(.*) mother(.*)\",\n",
    "    [   \"Tell me more about your mother.\",\n",
    "        \"What was your relationship with your mother like?\",\n",
    "        \"How do you feel about your mother?\",\n",
    "        \"How does this relate to your feelings today?\",\n",
    "        \"Good family relations are important.\"]],\n",
    "    [\"(.*) father(.*)\",\n",
    "    [   \"Tell me more about your father.\",\n",
    "        \"How did your father make you feel?\",\n",
    "        \"How do you feel about your father?\",\n",
    "        \"Does your relationship with your father relate to your feelings today?\",\n",
    "        \"Do you have trouble showing affection with your family?\"]],\n",
    "    [\"(.*) child(.*)\",\n",
    "    [   \"Did you have close friends as a child?\",\n",
    "        \"What is your favorite childhood memory?\",\n",
    "        \"Do you remember any dreams or nightmares from childhood?\",\n",
    "        \"Did the other children sometimes tease you?\",\n",
    "        \"How do you think your childhood experiences relate to your feelings today?\"]],\n",
    "    [\"(.*)\\?\",\n",
    "    [   \"Why do you ask that?\",\n",
    "        \"Please consider whether you can answer your own question.\",\n",
    "        \"Perhaps the answer lies within yourself?\",\n",
    "        \"Why don't you tell me?\"]],\n",
    "    [\"quit\",\n",
    "    [   \"Thank you for talking with me.\",\n",
    "        \"Good-bye.\",\n",
    "        \"Thank you, that will be $150.  Have a good day!\"]],\n",
    "  [\"(.*)\",\n",
    "  [   \"Please tell me more.\",\n",
    "      \"Let's change focus a bit... Tell me about your family.\",\n",
    "      \"Can you elaborate on that?\",\n",
    "      \"Why do you say that %1?\",\n",
    "      \"I see.\",\n",
    "      \"Very interesting.\",\n",
    "      \"%1.\",\n",
    "      \"I see.  And what does that tell you?\",\n",
    "      \"How does that make you feel?\",\n",
    "      \"How do you feel when you say that?\"]]\n",
    "]]"
   ]
  },
  {
   "cell_type": "markdown",
   "metadata": {},
   "source": [
    "유저로부터 문장이 주어지면, 이 함수는 모든 규칙을 체크하여 가장 만저 매칭되는 규칙을 택한다. 그 다음 이에 대한 응답 후보 중 하나를 랜덤하게 선택하고, %n 항을 수정하여 결과를 반환한다."
   ]
  },
  {
   "cell_type": "code",
   "execution_count": 7,
   "metadata": {},
   "outputs": [],
   "source": [
    "def respond(sentence):\n",
    "    # find a match among keys, last one is quaranteed to match\n",
    "    for rule, value in rules:\n",
    "        match = rule.search(sentence)\n",
    "        if match is not None:\n",
    "            # found a match ... stuff with corresponding value\n",
    "            # chosen randomly from among the available options\n",
    "            resp = random.choice(value)\n",
    "            # we've got a response... stuff in reflected text where indicated\n",
    "\n",
    "            while '%' in resp:\n",
    "                pos = resp.find('%')\n",
    "                num = int(resp[pos+1:pos+2])\n",
    "                resp = resp.replace(resp[pos:pos+2], translate(match.group(num)))\n",
    "            return resp"
   ]
  },
  {
   "cell_type": "markdown",
   "metadata": {},
   "source": [
    "만약 shell에서 작동하는 interactive version을 만들고자 한다면, 아래 코드를 추가하면 된다.\n",
    "```python\n",
    "if __name__ == '__main__':\n",
    "    print(\"\"\"\n",
    "    Therapist\n",
    "    ---------\n",
    "    Talk to the program by typing in plain English, using normal upper-\n",
    "    and lower-case letters and punctuation.  Enter \"quit\" when done.'\"\"\")\n",
    "    print('='*72)\n",
    "    print(\"Hello.  How are you feeling today?\")\n",
    "    s = \"\"\n",
    "    while s != \"quit\":\n",
    "        s = input(\">\")\n",
    "        while s and s[-1] in \"!.\":\n",
    "            s = s[:-1]\n",
    "        print(respond(s))\n",
    "```\n"
   ]
  },
  {
   "cell_type": "markdown",
   "metadata": {},
   "source": [
    "Eliza가 어떻게 작동하는지 `respond` 함수에 대한 몇 가지 예시를 통해 살펴보자"
   ]
  },
  {
   "cell_type": "code",
   "execution_count": 11,
   "metadata": {},
   "outputs": [
    {
     "data": {
      "text/plain": [
       "'When your mother hates you, how do you feel?'"
      ]
     },
     "execution_count": 11,
     "metadata": {},
     "output_type": "execute_result"
    }
   ],
   "source": [
    "respond('My mother hates me')"
   ]
  },
  {
   "cell_type": "code",
   "execution_count": 12,
   "metadata": {},
   "outputs": [
    {
     "data": {
      "text/plain": [
       "\"I'm fine, thank you.\""
      ]
     },
     "execution_count": 12,
     "metadata": {},
     "output_type": "execute_result"
    }
   ],
   "source": [
    "respond('How are you?')"
   ]
  },
  {
   "cell_type": "code",
   "execution_count": 13,
   "metadata": {},
   "outputs": [
    {
     "data": {
      "text/plain": [
       "'Are you sure you need a break?'"
      ]
     },
     "execution_count": 13,
     "metadata": {},
     "output_type": "execute_result"
    }
   ],
   "source": [
    "respond(\"I need a break.\")"
   ]
  },
  {
   "cell_type": "markdown",
   "metadata": {},
   "source": [
    "`translate` 함수를 테스트하다보면 몇 가지 버그 케이스가 보이는데, 이는 이 함수가 사용자 발화에서의 각 단어의 문법적 역할을 제대로 판별하지 못하기 때문이다. 예를 들어 `you`가 문장에서 주어인지 목적어인지, 또는 `you` 또는 `they`가 동사 `were`의 주어인지 아닌지를 제대로 판별하지 못한다. 이러한 유형의 문제를 해결하기 위해서는 단순 정규 표현식을 이용한 방식보다 실질적인 AI가 필요하다."
   ]
  },
  {
   "cell_type": "code",
   "execution_count": 117,
   "metadata": {},
   "outputs": [
    {
     "data": {
      "text/plain": [
       "'your mother hates you'"
      ]
     },
     "execution_count": 117,
     "metadata": {},
     "output_type": "execute_result"
    }
   ],
   "source": [
    "translate('my mother hates me')"
   ]
  },
  {
   "cell_type": "code",
   "execution_count": 118,
   "metadata": {
    "scrolled": true
   },
   "outputs": [
    {
     "data": {
      "text/plain": [
       "'you will do anything me ask'"
      ]
     },
     "execution_count": 118,
     "metadata": {},
     "output_type": "execute_result"
    }
   ],
   "source": [
    "# 두 번째 you가 종속절 문장의 주어지만 목적어로 잘못 파악함\n",
    "translate('I will do anything you ask')"
   ]
  },
  {
   "cell_type": "code",
   "execution_count": 119,
   "metadata": {
    "scrolled": false
   },
   "outputs": [
    {
     "data": {
      "text/plain": [
       "'the dogs were crazy'"
      ]
     },
     "execution_count": 119,
     "metadata": {},
     "output_type": "execute_result"
    }
   ],
   "source": [
    "translate('the dogs were crazy')"
   ]
  },
  {
   "cell_type": "code",
   "execution_count": 120,
   "metadata": {},
   "outputs": [
    {
     "data": {
      "text/plain": [
       "'the dog were crazy'"
      ]
     },
     "execution_count": 120,
     "metadata": {},
     "output_type": "execute_result"
    }
   ],
   "source": [
    "# 3인칭 was를 (1인칭 was로 잘못 파악해) 2인칭으로 were로 변환\n",
    "translate('the dog was crazy')"
   ]
  },
  {
   "cell_type": "code",
   "execution_count": 59,
   "metadata": {},
   "outputs": [
    {
     "data": {
      "text/plain": [
       "'Why do you say that your dog were crazy?'"
      ]
     },
     "execution_count": 59,
     "metadata": {},
     "output_type": "execute_result"
    }
   ],
   "source": [
    "# was(O) -> were(X)\n",
    "translate(\"My dog was crazy.\")"
   ]
  },
  {
   "cell_type": "code",
   "execution_count": 51,
   "metadata": {},
   "outputs": [
    {
     "data": {
      "text/plain": [
       "'Why do you say that you were crazy?'"
      ]
     },
     "execution_count": 51,
     "metadata": {},
     "output_type": "execute_result"
    }
   ],
   "source": [
    "respond(\"I was crazy\")"
   ]
  },
  {
   "cell_type": "code",
   "execution_count": 49,
   "metadata": {},
   "outputs": [
    {
     "data": {
      "text/plain": [
       "'Why do you care whether I said fred were crazy?'"
      ]
     },
     "execution_count": 49,
     "metadata": {},
     "output_type": "execute_result"
    }
   ],
   "source": [
    "# Fred(O) -> fred(X) / was(O) -> were(X)\n",
    "respond(\"You said Fred was crazy.\")"
   ]
  },
  {
   "cell_type": "code",
   "execution_count": 82,
   "metadata": {},
   "outputs": [
    {
     "data": {
      "text/plain": [
       "'you asked me.'"
      ]
     },
     "execution_count": 82,
     "metadata": {},
     "output_type": "execute_result"
    }
   ],
   "source": [
    "respond(\"I asked you.\")"
   ]
  }
 ],
 "metadata": {
  "kernelspec": {
   "display_name": "Python 3",
   "language": "python",
   "name": "python3"
  },
  "language_info": {
   "codemirror_mode": {
    "name": "ipython",
    "version": 3
   },
   "file_extension": ".py",
   "mimetype": "text/x-python",
   "name": "python",
   "nbconvert_exporter": "python",
   "pygments_lexer": "ipython3",
   "version": "3.8.8"
  }
 },
 "nbformat": 4,
 "nbformat_minor": 4
}
